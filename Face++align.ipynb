{
 "cells": [
  {
   "cell_type": "code",
   "execution_count": 7,
   "metadata": {},
   "outputs": [],
   "source": [
    "import cv2  \n",
    "import requests  \n",
    "import json  \n",
    "\n",
    "#上传参数\n",
    "url = 'https://api-cn.faceplusplus.com/facepp/v3/detect'  \n",
    "files = {'image_file':open('D:/3.jpg', 'rb')}  \n",
    "payload = {'api_key': '7o2OOznWnvvjGIShfZvhwKgcGKMVid43',  \n",
    "           'api_secret':'HQT5PkuyRqd7kDJgFsniCrgKm1epO3P_',  \n",
    "           'return_landmark': 2,  \n",
    "           'return_attributes':'none'}  \n",
    "#使用post方法\n",
    "r = requests.post(url,files=files,data=payload)  \n",
    "#返回data\n",
    "data=json.loads(r.text)\n",
    "#画框（定义边界）\n",
    "#width = data['faces'][0]['face_rectangle']['width']  \n",
    "#top = data['faces'][0]['face_rectangle']['top']  \n",
    "#height = data['faces'][0]['face_rectangle']['height']  \n",
    "#left = data['faces'][0]['face_rectangle']['left']  \n",
    "img = cv2.imread(\"D:/3.jpg\")  \n",
    "vis = img.copy()\n",
    "#画框\n",
    "#cv2.rectangle(vis, (left, top), (left+width, top+height),(0, 255, 0), 1)\n",
    " \n",
    "#%%\n",
    "#画点\n",
    "for j in (0,len(data['faces'])-1):\n",
    "    for i in data['faces'][j]['landmark']:\n",
    "        cor=data['faces'][j]['landmark'][i]\n",
    "        x=cor[\"x\"]\n",
    "        y=cor[\"y\"]\n",
    "#Circle(img, center, radius, color, thickness=1, lineType=8, shift=0)\n",
    "        cv2.circle(vis, (x,y), 10, (0,255,0),-1)\n",
    "#%%\n",
    "#cv2.imshow(\"Image\", vis)  \n",
    "cv2.waitKey(0)\n",
    "#save image with landmarks\n",
    "cv2.imwrite(\"D:/3withlandmarks.jpg\",vis)\n",
    "cv2.destroyAllWindows()"
   ]
  }
 ],
 "metadata": {
  "kernelspec": {
   "display_name": "Python 3",
   "language": "python",
   "name": "python3"
  },
  "language_info": {
   "codemirror_mode": {
    "name": "ipython",
    "version": 3
   },
   "file_extension": ".py",
   "mimetype": "text/x-python",
   "name": "python",
   "nbconvert_exporter": "python",
   "pygments_lexer": "ipython3",
   "version": "3.6.5"
  }
 },
 "nbformat": 4,
 "nbformat_minor": 2
}
